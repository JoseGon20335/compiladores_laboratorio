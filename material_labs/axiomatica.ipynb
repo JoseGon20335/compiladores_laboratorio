{
 "cells": [
  {
   "cell_type": "markdown",
   "metadata": {},
   "source": [
    "### Casteo implícito"
   ]
  },
  {
   "cell_type": "markdown",
   "metadata": {},
   "source": [
    "#### Boolean a entero\n",
    "* True -> 1\n",
    "* False -> 0\n",
    "\n",
    "* a: bool, b: int\n",
    "* a = True\n",
    "* b = a\n",
    "* b = 1\n",
    "\n",
    "#### Entero a boolean\n",
    "* 0 -> False\n",
    "* 1 -> True\n",
    "\n",
    "* a: int, b: bool\n",
    "* a = 1\n",
    "* b = a\n",
    "* b = True\n"
   ]
  },
  {
   "cell_type": "markdown",
   "metadata": {},
   "source": [
    "### Operaciones"
   ]
  },
  {
   "cell_type": "markdown",
   "metadata": {},
   "source": [
    "#### Operaciones entre enteros\n",
    "\n",
    "* a: int, b: int\n",
    "* a + b: int\n",
    "* a - b: int\n",
    "* a * b: int\n",
    "* a / b: int\n",
    "\n",
    "#### Operaciones entre booleanos\n",
    "* a: bool, b: bool\n",
    "* a & b: bool\n",
    "* a | b: bool\n",
    "\n",
    "#### Operaciones entre strings\n",
    "* a: str, b: str\n",
    "* a + b: str\n"
   ]
  }
 ],
 "metadata": {
  "language_info": {
   "name": "python"
  },
  "orig_nbformat": 4
 },
 "nbformat": 4,
 "nbformat_minor": 2
}
